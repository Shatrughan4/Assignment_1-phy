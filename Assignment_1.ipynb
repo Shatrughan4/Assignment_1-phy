{
 "cells": [
  {
   "cell_type": "code",
   "execution_count": 6,
   "id": "3188dade",
   "metadata": {},
   "outputs": [
    {
     "name": "stdout",
     "output_type": "stream",
     "text": [
      "1505,1540,1575,1610,1645,1680,1715,1750,1785,1820,1855,1890,1925,1960,1995,2030,2065,2100,2135,2170,2205,2240,2275,2310,2345,2380,2415,2450,2485,2520,2555,2590,2625,2660,2695\n"
     ]
    }
   ],
   "source": [
    "# divisible by 7 and multiple of 5, between 1500 and 2700\n",
    "nl = []\n",
    "for x in range(1500, 2701):\n",
    "    if (x%7==0) and (x%5==0):\n",
    "        nl.append(str(x))\n",
    "print (','.join(nl))"
   ]
  },
  {
   "cell_type": "code",
   "execution_count": 9,
   "id": "1d469d89",
   "metadata": {},
   "outputs": [
    {
     "name": "stdout",
     "output_type": "stream",
     "text": [
      "   1505\n",
      "   1540\n",
      "   1575\n",
      "   1610\n",
      "   1645\n",
      "   1680\n",
      "   1715\n",
      "   1750\n",
      "   1785\n",
      "   1820\n",
      "   1855\n",
      "   1890\n",
      "   1925\n",
      "   1960\n",
      "   1995\n",
      "   2030\n",
      "   2065\n",
      "   2100\n",
      "   2135\n",
      "   2170\n",
      "   2205\n",
      "   2240\n",
      "   2275\n",
      "   2310\n",
      "   2345\n",
      "   2380\n",
      "   2415\n",
      "   2450\n",
      "   2485\n",
      "   2520\n",
      "   2555\n",
      "   2590\n",
      "   2625\n",
      "   2660\n",
      "   2695\n"
     ]
    }
   ],
   "source": [
    "for i in range(1500,2701):\n",
    "\n",
    "    if i%7==0 and i%5==0:\n",
    "\n",
    "        print(\"  \",i)"
   ]
  },
  {
   "cell_type": "code",
   "execution_count": 11,
   "id": "84e020c5",
   "metadata": {},
   "outputs": [
    {
     "name": "stdout",
     "output_type": "stream",
     "text": [
      "The sum of 1500 and 2700 is 4200.0\n"
     ]
    }
   ],
   "source": [
    "# This program adds two numbers\n",
    "num1 = 1500\n",
    "num2 = 2700\n",
    "sum = float(1500) + float(2700)\n",
    "print('The sum of {0} and {1} is {2}'.format(num1, num2, sum))\n"
   ]
  },
  {
   "cell_type": "code",
   "execution_count": 18,
   "id": "d8ca6493",
   "metadata": {},
   "outputs": [
    {
     "name": "stdout",
     "output_type": "stream",
     "text": [
      "maximum number of [1500,2700] is = 2700\n"
     ]
    }
   ],
   "source": [
    "# maximum of two numbers\n",
    "a = 1500\n",
    "b = 2700\n",
    "print('maximum number of [1500,2700] is =',(max(a,b)))"
   ]
  },
  {
   "cell_type": "code",
   "execution_count": 25,
   "id": "cfebdcbd",
   "metadata": {},
   "outputs": [
    {
     "name": "stdout",
     "output_type": "stream",
     "text": [
      "Factorial of,num,is 12696403353658275925965100847566516959580321051449436762275840000000000000\n"
     ]
    }
   ],
   "source": [
    "# Python Program for factorial of a number\n",
    "\n",
    "n = 55\n",
    "print(\"Factorial of,num,is\", factorial(n))"
   ]
  },
  {
   "cell_type": "code",
   "execution_count": 26,
   "id": "d8a79088",
   "metadata": {},
   "outputs": [],
   "source": [
    "# Python3 program to find simple interest\n",
    "def simple_interest(p,t,r):\n",
    "    print('The principal is', p)\n",
    "    print('The time period is', t)\n",
    "    print('The rate of interest is',r)\n",
    "      \n",
    "    si = (p * t * r)/100\n",
    "      \n",
    "    print('The Simple Interest is', si)\n",
    "    return si"
   ]
  },
  {
   "cell_type": "code",
   "execution_count": 27,
   "id": "3c8b721b",
   "metadata": {},
   "outputs": [
    {
     "name": "stdout",
     "output_type": "stream",
     "text": [
      "The principal is 1500\n",
      "The time period is 2700\n",
      "The rate of interest is 3900\n",
      "The Simple Interest is 157950000.0\n"
     ]
    },
    {
     "data": {
      "text/plain": [
       "157950000.0"
      ]
     },
     "execution_count": 27,
     "metadata": {},
     "output_type": "execute_result"
    }
   ],
   "source": [
    "simple_interest(1500, 2700, 3900)"
   ]
  },
  {
   "cell_type": "code",
   "execution_count": 28,
   "id": "4fd39100",
   "metadata": {},
   "outputs": [],
   "source": [
    "# Python3 program to find compound\n",
    "def compound_interest(principle, rate, time):\n",
    "    Amount = principle * (pow((1 + rate / 100), time))\n",
    "    CI = Amount - principle\n",
    "    print(\"Compound interest is\", CI)"
   ]
  },
  {
   "cell_type": "code",
   "execution_count": 29,
   "id": "5f983506",
   "metadata": {},
   "outputs": [
    {
     "name": "stdout",
     "output_type": "stream",
     "text": [
      "Compound interest is 102199.97937225006\n"
     ]
    }
   ],
   "source": [
    "compound_interest(100000, 9.2, 8)"
   ]
  },
  {
   "cell_type": "code",
   "execution_count": 40,
   "id": "7ec2a17f",
   "metadata": {},
   "outputs": [
    {
     "name": "stdout",
     "output_type": "stream",
     "text": [
      "Enter a number: 2700\n",
      "2700 is not an Armstrong number\n"
     ]
    }
   ],
   "source": [
    "# Python program to check if the number is an Armstrong number\n",
    "   \n",
    "n = int(input(\"Enter a number: \"))\n",
    "\n",
    "#initialize the sum\n",
    "\n",
    "s = 0\n",
    "\n",
    "t = n\n",
    "\n",
    "while t > 0:\n",
    "\n",
    "   digit = t % 10\n",
    "\n",
    "   s += digit ** 3\n",
    "\n",
    "   t //= 10\n",
    "\n",
    "if n == s:\n",
    "\n",
    "   print(n,\"is an Armstrong number\")\n",
    "\n",
    "else:\n",
    "\n",
    "   print(n,\"is not an Armstrong number\")\n"
   ]
  },
  {
   "cell_type": "code",
   "execution_count": 42,
   "id": "026ed7da",
   "metadata": {},
   "outputs": [
    {
     "name": "stdout",
     "output_type": "stream",
     "text": [
      "Enter a number: 153\n",
      "153 is an Armstrong number\n"
     ]
    }
   ],
   "source": [
    "n = int(input(\"Enter a number: \"))\n",
    "\n",
    "#initialize the sum\n",
    "\n",
    "s = 0\n",
    "\n",
    "t = n\n",
    "\n",
    "while t > 0:\n",
    "\n",
    "   digit = t % 10\n",
    "\n",
    "   s += digit ** 3\n",
    "\n",
    "   t //= 10\n",
    "\n",
    "if n == s:\n",
    "\n",
    "   print(n,\"is an Armstrong number\")\n",
    "\n",
    "else:\n",
    "\n",
    "   print(n,\"is not an Armstrong number\")\n"
   ]
  },
  {
   "cell_type": "code",
   "execution_count": 46,
   "id": "d186dd92",
   "metadata": {},
   "outputs": [
    {
     "name": "stdout",
     "output_type": "stream",
     "text": [
      "Area of circle = 113.040000\n"
     ]
    }
   ],
   "source": [
    "# Python program to find Area of a circle\n",
    "def findArea(r):\n",
    "    PI = 3.14\n",
    "    return PI * (r*r);\n",
    "print(\"Area of circle = %.6f\" % findArea(6))"
   ]
  },
  {
   "cell_type": "code",
   "execution_count": 48,
   "id": "a7d0e5c8",
   "metadata": {},
   "outputs": [
    {
     "name": "stdout",
     "output_type": "stream",
     "text": [
      "Prime numbers between 1500 and 2700 are:\n",
      "1511\n",
      "1523\n",
      "1531\n",
      "1543\n",
      "1549\n",
      "1553\n",
      "1559\n",
      "1567\n",
      "1571\n",
      "1579\n",
      "1583\n",
      "1597\n",
      "1601\n",
      "1607\n",
      "1609\n",
      "1613\n",
      "1619\n",
      "1621\n",
      "1627\n",
      "1637\n",
      "1657\n",
      "1663\n",
      "1667\n",
      "1669\n",
      "1693\n",
      "1697\n",
      "1699\n",
      "1709\n",
      "1721\n",
      "1723\n",
      "1733\n",
      "1741\n",
      "1747\n",
      "1753\n",
      "1759\n",
      "1777\n",
      "1783\n",
      "1787\n",
      "1789\n",
      "1801\n",
      "1811\n",
      "1823\n",
      "1831\n",
      "1847\n",
      "1861\n",
      "1867\n",
      "1871\n",
      "1873\n",
      "1877\n",
      "1879\n",
      "1889\n",
      "1901\n",
      "1907\n",
      "1913\n",
      "1931\n",
      "1933\n",
      "1949\n",
      "1951\n",
      "1973\n",
      "1979\n",
      "1987\n",
      "1993\n",
      "1997\n",
      "1999\n",
      "2003\n",
      "2011\n",
      "2017\n",
      "2027\n",
      "2029\n",
      "2039\n",
      "2053\n",
      "2063\n",
      "2069\n",
      "2081\n",
      "2083\n",
      "2087\n",
      "2089\n",
      "2099\n",
      "2111\n",
      "2113\n",
      "2129\n",
      "2131\n",
      "2137\n",
      "2141\n",
      "2143\n",
      "2153\n",
      "2161\n",
      "2179\n",
      "2203\n",
      "2207\n",
      "2213\n",
      "2221\n",
      "2237\n",
      "2239\n",
      "2243\n",
      "2251\n",
      "2267\n",
      "2269\n",
      "2273\n",
      "2281\n",
      "2287\n",
      "2293\n",
      "2297\n",
      "2309\n",
      "2311\n",
      "2333\n",
      "2339\n",
      "2341\n",
      "2347\n",
      "2351\n",
      "2357\n",
      "2371\n",
      "2377\n",
      "2381\n",
      "2383\n",
      "2389\n",
      "2393\n",
      "2399\n",
      "2411\n",
      "2417\n",
      "2423\n",
      "2437\n",
      "2441\n",
      "2447\n",
      "2459\n",
      "2467\n",
      "2473\n",
      "2477\n",
      "2503\n",
      "2521\n",
      "2531\n",
      "2539\n",
      "2543\n",
      "2549\n",
      "2551\n",
      "2557\n",
      "2579\n",
      "2591\n",
      "2593\n",
      "2609\n",
      "2617\n",
      "2621\n",
      "2633\n",
      "2647\n",
      "2657\n",
      "2659\n",
      "2663\n",
      "2671\n",
      "2677\n",
      "2683\n",
      "2687\n",
      "2689\n",
      "2693\n",
      "2699\n"
     ]
    }
   ],
   "source": [
    "# Python program to display all the prime numbers within an interval\n",
    "\n",
    "lower = 1500\n",
    "upper = 2700\n",
    "\n",
    "print(\"Prime numbers between\", lower, \"and\", upper, \"are:\")\n",
    "\n",
    "for num in range(lower, upper + 1):\n",
    "   if num > 1:\n",
    "       for i in range(2, num):\n",
    "           if (num % i) == 0:\n",
    "               break\n",
    "       else:\n",
    "           print(num)"
   ]
  },
  {
   "cell_type": "code",
   "execution_count": 56,
   "id": "5a14b38b",
   "metadata": {},
   "outputs": [
    {
     "name": "stdout",
     "output_type": "stream",
     "text": [
      "97 is a prime number\n"
     ]
    }
   ],
   "source": [
    "# Program to check if a number is prime or not\n",
    "\n",
    "num = 97\n",
    "\n",
    "if num > 1:\n",
    "   # check for factors\n",
    "   for i in range(2,num):\n",
    "       if (num % i) == 0:\n",
    "           print(num,\"is not a prime number\")\n",
    "           print(i,\"times\",num//i,\"is\",num)\n",
    "           break\n",
    "   else:\n",
    "       print(num,\"is a prime number\")\n",
    "       \n",
    "else:\n",
    "       print(num,\"is not a prime number\")\n"
   ]
  },
  {
   "cell_type": "code",
   "execution_count": null,
   "id": "8c163d9b",
   "metadata": {},
   "outputs": [],
   "source": []
  }
 ],
 "metadata": {
  "kernelspec": {
   "display_name": "Python 3",
   "language": "python",
   "name": "python3"
  },
  "language_info": {
   "codemirror_mode": {
    "name": "ipython",
    "version": 3
   },
   "file_extension": ".py",
   "mimetype": "text/x-python",
   "name": "python",
   "nbconvert_exporter": "python",
   "pygments_lexer": "ipython3",
   "version": "3.8.8"
  }
 },
 "nbformat": 4,
 "nbformat_minor": 5
}
